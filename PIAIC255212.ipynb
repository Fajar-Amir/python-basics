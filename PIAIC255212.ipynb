{
  "nbformat": 4,
  "nbformat_minor": 0,
  "metadata": {
    "colab": {
      "provenance": [],
      "authorship_tag": "ABX9TyOKbIJWH546JuOX1ENRRJdK",
      "include_colab_link": true
    },
    "kernelspec": {
      "name": "python3",
      "display_name": "Python 3"
    },
    "language_info": {
      "name": "python"
    }
  },
  "cells": [
    {
      "cell_type": "markdown",
      "metadata": {
        "id": "view-in-github",
        "colab_type": "text"
      },
      "source": [
        "<a href=\"https://colab.research.google.com/github/Fajar-Amir/python-basics/blob/main/PIAIC255212.ipynb\" target=\"_parent\"><img src=\"https://colab.research.google.com/assets/colab-badge.svg\" alt=\"Open In Colab\"/></a>"
      ]
    },
    {
      "cell_type": "markdown",
      "source": [
        "ASSIGNMENT # 4:\n",
        "lists in python\n",
        "exercise 3-1\n",
        "names"
      ],
      "metadata": {
        "id": "sZPPYL7tfKlm"
      }
    },
    {
      "cell_type": "code",
      "source": [
        "# assigning names to a varaiable\n",
        "names=['fajar','sajal','ayesha','zahra']\n",
        "# loop for accessing each element one by one\n",
        "for name in names:\n",
        "  # print(name[0:])\n",
        "  print(name)"
      ],
      "metadata": {
        "colab": {
          "base_uri": "https://localhost:8080/"
        },
        "id": "d-wzOwUEfRRK",
        "outputId": "028f5f7e-6990-4a0e-bd94-35dad1493346"
      },
      "execution_count": null,
      "outputs": [
        {
          "output_type": "stream",
          "name": "stdout",
          "text": [
            "fajar\n",
            "sajal\n",
            "ayesha\n",
            "zahra\n"
          ]
        }
      ]
    },
    {
      "cell_type": "markdown",
      "source": [
        "exercise 3-2\n",
        "GREETINGS MESSAGE"
      ],
      "metadata": {
        "id": "_2eSdXjBgykf"
      }
    },
    {
      "cell_type": "code",
      "source": [
        "# assigning names to a varaiable\n",
        "names=['fajar','sajal','ayesha','zahra']\n",
        "# loop for accessing each element one by one\n",
        "for name in names:\n",
        "  # prniting with greeting message\n",
        "  print(f\"Hi,How are you {name} ?.How's your day going?\")"
      ],
      "metadata": {
        "colab": {
          "base_uri": "https://localhost:8080/"
        },
        "id": "9Bm9K0Ayg3jn",
        "outputId": "b2bc1ca5-6f3e-4502-f2c3-1853cdf73a62"
      },
      "execution_count": null,
      "outputs": [
        {
          "output_type": "stream",
          "name": "stdout",
          "text": [
            "Hi,How are you fajar ?.How's your day going?\n",
            "Hi,How are you sajal ?.How's your day going?\n",
            "Hi,How are you ayesha ?.How's your day going?\n",
            "Hi,How are you zahra ?.How's your day going?\n"
          ]
        }
      ]
    },
    {
      "cell_type": "markdown",
      "source": [
        "exercise 3-3\n",
        "YOUR OWN LIST"
      ],
      "metadata": {
        "id": "P20nu9KnhyCU"
      }
    },
    {
      "cell_type": "code",
      "source": [
        "# list of my favourite cars\n",
        "favorite_cars=['G_Wagon','Sportage','Haval','Tesla Model S']\n",
        "# loop to print each car statement\n",
        "for car in favorite_cars:\n",
        "   print(f\"I would like to own a {car}.\")\n",
        "\n",
        "  # additional statements (outside the loop)\n",
        "print(f\"\\nThe {favorite_cars[0]} is known for its unique design and performance.\")\n",
        "print(f\"The {favorite_cars[1]} is an iconic  car.\")\n",
        "print(f\"The {favorite_cars[2]} has a powerful engine and features.\")\n",
        "print(f\"The {favorite_cars[3]} is a high-performance car.\")"
      ],
      "metadata": {
        "colab": {
          "base_uri": "https://localhost:8080/"
        },
        "id": "GhHYWnCIh332",
        "outputId": "17af2991-7edd-4517-ab70-d3b3706f4256"
      },
      "execution_count": null,
      "outputs": [
        {
          "output_type": "stream",
          "name": "stdout",
          "text": [
            "I would like to own a G_Wagon.\n",
            "I would like to own a Sportage.\n",
            "I would like to own a Haval.\n",
            "I would like to own a Tesla Model S.\n",
            "\n",
            "The G_Wagon is known for its unique design and performance.\n",
            "The Sportage is an iconic  car.\n",
            "The Haval has a powerful engine and features.\n",
            "The Tesla Model S is a high-performance car.\n"
          ]
        }
      ]
    },
    {
      "cell_type": "markdown",
      "source": [],
      "metadata": {
        "id": "YX4Hn--HEzKC"
      }
    },
    {
      "cell_type": "markdown",
      "source": [
        "Exercise 3-4: Guest List"
      ],
      "metadata": {
        "id": "_X57qavmEzOI"
      }
    },
    {
      "cell_type": "code",
      "source": [
        "# list of guests(Alive)\n",
        "Guests_alive=['Hassan','Fajar','Azlan','Hamad']\n",
        "# print(f'Hi! {Guests_alive[0]},{Guests_alive[1]} is inviting you to dinner at her place')\n",
        "# print(f'Hi! {Guests_alive[2]},{Guests_alive[1]} is inviting you to dinner at her place')\n",
        "# print(f'Hi! {Guests_alive[3]},{Guests_alive[1]} is inviting you to dinner at her place')\n",
        "# initial invitations\n",
        "print('Initial invitations:')\n",
        "for guest in Guests_alive:\n",
        "  print(f'Hi! {guest} you are invited to join us for dinner tonight')\n",
        "  # exersise 3-5\n",
        "print(\"\\n\")\n",
        "# changing guest list\n",
        "print(f'Unfortunaetely,{Guests_alive[3]} can not make it to the dinner')\n",
        "# replacing guest\n",
        "Guests_alive[3]='Ali'\n",
        "# printing invitation for new guest\n",
        "print(\"New invitations to new member:\")\n",
        "for guest in Guests_alive:\n",
        "   print(f'Hi! {guest} you are invited to join us for dinner tonight')\n",
        "\n",
        "  # exercise 3-6\n",
        "  # print call\n",
        "print(\"\\n\")\n",
        "print(\"Good news! We found a bigger dinner table so we are adding more members\")\n",
        "# member at the start\n",
        "Guests_alive.insert(0,\"Ashir\")\n",
        "# in middle\n",
        "Guests_alive.insert(len(Guests_alive)//2,\"Shaheer\")\n",
        "# in last\n",
        "Guests_alive.append(\"Rukhma\")\n",
        "# loop to print new invitations:\n",
        "for guest in Guests_alive:\n",
        "      print(f'Hi! {guest} you are invited to join us for dinner tonight')\n",
        "\n",
        "# exercise 3-7\n",
        "# shrinking guest list\n",
        "# Original guest list from Exercise 3-6\n",
        "print(\"\\n\")\n",
        "Guests_alive = ['Ashir', 'Fajar', 'Azlan', 'Hamad', 'Ali', 'Shaheer', 'Rukhma']\n",
        "# exercise 3-8\n",
        "# printing length of list\n",
        "number_of_guests = len(Guests_alive)\n",
        "print(f\"\\nYou are inviting {number_of_guests} people to dinner.\")\n",
        "\n",
        "# Informing the members about shrinking guest list\n",
        "print(\"Unfortunately, my new dinner table won’t arrive in time, and I can invite only two people for dinner.\")\n",
        "\n",
        "# Removing guests  (two remain)\n",
        "while len(Guests_alive) > 2:\n",
        "    removed_guest = Guests_alive.pop()  # Remove the last guest\n",
        "    print(f\"Sorry, {removed_guest}, I can’t invite you to dinner.\")\n",
        "\n",
        "# Inform the two remaining guests\n",
        "for guest in Guests_alive:\n",
        "    print(f\"Dear {guest}, you’re still invited to dinner!\")\n",
        "\n",
        "# Remove the last two guests and make the list empty\n",
        "del Guests_alive[0]  # Remove the first remaining guest\n",
        "del Guests_alive[0]  # Remove the second remaining guest\n",
        "\n",
        "# Print the empty list to confirm\n",
        "print(f\"Guest list is now empty: {Guests_alive}\")\n",
        "\n",
        "# exercise 3-8\n",
        "# printing length of list\n",
        "number_of_guests = len(Guests_alive)\n",
        "print(f\"\\nYou are inviting {number_of_guests} people to dinner.\")\n"
      ],
      "metadata": {
        "colab": {
          "base_uri": "https://localhost:8080/"
        },
        "id": "PvsIFgF6E0Nw",
        "outputId": "5f39405c-749e-47f0-b2e9-c5c555692706"
      },
      "execution_count": 6,
      "outputs": [
        {
          "output_type": "stream",
          "name": "stdout",
          "text": [
            "Initial invitations:\n",
            "Hi! Hassan you are invited to join us for dinner tonight\n",
            "Hi! Fajar you are invited to join us for dinner tonight\n",
            "Hi! Azlan you are invited to join us for dinner tonight\n",
            "Hi! Hamad you are invited to join us for dinner tonight\n",
            "\n",
            "\n",
            "Unfortunaetely,Hamad can not make it to the dinner\n",
            "New invitations to new member:\n",
            "Hi! Hassan you are invited to join us for dinner tonight\n",
            "Hi! Fajar you are invited to join us for dinner tonight\n",
            "Hi! Azlan you are invited to join us for dinner tonight\n",
            "Hi! Ali you are invited to join us for dinner tonight\n",
            "\n",
            "\n",
            "Good news! We found a bigger dinner table so we are adding more members\n",
            "Hi! Ashir you are invited to join us for dinner tonight\n",
            "Hi! Hassan you are invited to join us for dinner tonight\n",
            "Hi! Shaheer you are invited to join us for dinner tonight\n",
            "Hi! Fajar you are invited to join us for dinner tonight\n",
            "Hi! Azlan you are invited to join us for dinner tonight\n",
            "Hi! Ali you are invited to join us for dinner tonight\n",
            "Hi! Rukhma you are invited to join us for dinner tonight\n",
            "\n",
            "\n",
            "\n",
            "You are inviting 7 people to dinner.\n",
            "Unfortunately, my new dinner table won’t arrive in time, and I can invite only two people for dinner.\n",
            "Sorry, Rukhma, I can’t invite you to dinner.\n",
            "Sorry, Shaheer, I can’t invite you to dinner.\n",
            "Sorry, Ali, I can’t invite you to dinner.\n",
            "Sorry, Hamad, I can’t invite you to dinner.\n",
            "Sorry, Azlan, I can’t invite you to dinner.\n",
            "Dear Ashir, you’re still invited to dinner!\n",
            "Dear Fajar, you’re still invited to dinner!\n",
            "Guest list is now empty: []\n",
            "\n",
            "You are inviting 0 people to dinner.\n"
          ]
        }
      ]
    },
    {
      "cell_type": "markdown",
      "source": [
        "exersise 3-8"
      ],
      "metadata": {
        "id": "3F8ypfpXJXWE"
      }
    },
    {
      "cell_type": "code",
      "source": [
        "places=['Canada','Bangladesh','Paris','Australia','Londom','Japan']\n",
        "# original list\n",
        "print(f'Original list{places}')\n",
        "# sorted list by alphabet\n",
        "print(f\"Sorted list: {sorted(places)}\")\n",
        "# again original list\n",
        "print(f'Original list{places}')\n",
        "# reverse list\n",
        "print(f\" Reverse-Sorted list: {sorted(places,reverse=True)}\")\n",
        "# again origianl list\n",
        "print(f'Original list{places}')\n",
        "# reverse list\n",
        "places.reverse()\n",
        "print(f'Reverse list{places}')\n",
        "# again reverse list\n",
        "places.reverse()\n",
        "print(f'Reverse list{places}')\n",
        "places.sort()\n",
        "print(f'Sorted list{places}')\n",
        "places.sort(reverse=True)\n",
        "print(f'Reverse-Sorted list{places}')"
      ],
      "metadata": {
        "id": "1T_fgOqTJadK",
        "colab": {
          "base_uri": "https://localhost:8080/"
        },
        "outputId": "9db0b3f4-d717-49e3-aac4-9b448587d775"
      },
      "execution_count": 4,
      "outputs": [
        {
          "output_type": "stream",
          "name": "stdout",
          "text": [
            "Original list['Canada', 'Bangladesh', 'Paris', 'Australia', 'Londom', 'Japan']\n",
            "Sorted list: ['Australia', 'Bangladesh', 'Canada', 'Japan', 'Londom', 'Paris']\n",
            "Original list['Canada', 'Bangladesh', 'Paris', 'Australia', 'Londom', 'Japan']\n",
            " Reverse-Sorted list: ['Paris', 'Londom', 'Japan', 'Canada', 'Bangladesh', 'Australia']\n",
            "Original list['Canada', 'Bangladesh', 'Paris', 'Australia', 'Londom', 'Japan']\n",
            "Reverse list['Japan', 'Londom', 'Australia', 'Paris', 'Bangladesh', 'Canada']\n",
            "Reverse list['Canada', 'Bangladesh', 'Paris', 'Australia', 'Londom', 'Japan']\n",
            "Sorted list['Australia', 'Bangladesh', 'Canada', 'Japan', 'Londom', 'Paris']\n",
            "Reverse-Sorted list['Paris', 'Londom', 'Japan', 'Canada', 'Bangladesh', 'Australia']\n"
          ]
        }
      ]
    }
  ]
}