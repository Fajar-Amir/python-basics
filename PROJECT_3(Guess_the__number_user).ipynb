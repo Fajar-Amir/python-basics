{
  "cells": [
    {
      "cell_type": "markdown",
      "metadata": {
        "id": "view-in-github",
        "colab_type": "text"
      },
      "source": [
        "<a href=\"https://colab.research.google.com/github/Fajar-Amir/python-basics/blob/main/PROJECT_3(Guess_the__number_user).ipynb\" target=\"_parent\"><img src=\"https://colab.research.google.com/assets/colab-badge.svg\" alt=\"Open In Colab\"/></a>"
      ]
    },
    {
      "cell_type": "code",
      "execution_count": null,
      "metadata": {
        "colab": {
          "background_save": true,
          "base_uri": "https://localhost:8080/"
        },
        "id": "s6X8Q-UFDI9N",
        "outputId": "a33459b5-4b19-4ff8-a0fd-3df92e55eeef"
      },
      "outputs": [
        {
          "output_type": "stream",
          "name": "stdout",
          "text": [
            "Think of a number i will guess if its too low,high or correct!\n"
          ]
        }
      ],
      "source": [
        "import random\n",
        "\n",
        "# def guess(x):\n",
        "#     secret_number = random.randint(1, x)\n",
        "#     guess = 0\n",
        "\n",
        "#     while guess != secret_number:\n",
        "#         guess = int(input(f\"Guess a number between 1 and {x}: \"))\n",
        "\n",
        "#         if guess > secret_number:\n",
        "#             print(\"Oops! Too high, guess another one 😉\")\n",
        "#         elif guess < secret_number:\n",
        "#             print(\"Oops! Too low, guess another one 😉\")\n",
        "\n",
        "#     print(f\"Wuhuuu! 🎉 Congrats, you guessed the number {secret_number}!\")\n",
        "def computer_guess(x):\n",
        "\n",
        "  low=1\n",
        "  high=x\n",
        "  feedback=\"\"\n",
        "  print(\"Think of a number i will guess if its too low,high or correct!\")\n",
        "  while feedback!=\"c\":\n",
        "    if low!=high:\n",
        "      guess=random.randint(low,high)\n",
        "    else:\n",
        "      guess=low\n",
        "    # print(\"Think of a number i will guess if its too low,high or correct!\")\n",
        "      feedback=input(f\"Is {guess} is too high(H) ,too low(L) or correct(C)?\".lower())\n",
        "      if feedback==\"h\":\n",
        "        high=guess-1\n",
        "      elif feedback==\"l\":\n",
        "       low=guess+1\n",
        "  print(f\"Yay! The computer guessed your number {guess} correctly!\")\n",
        "\n",
        "computer_guess(50)\n"
      ]
    }
  ],
  "metadata": {
    "colab": {
      "provenance": [],
      "authorship_tag": "ABX9TyMeZQOrl6dwa4XfEKYVEzXC",
      "include_colab_link": true
    },
    "kernelspec": {
      "display_name": "Python 3",
      "name": "python3"
    },
    "language_info": {
      "name": "python"
    }
  },
  "nbformat": 4,
  "nbformat_minor": 0
}