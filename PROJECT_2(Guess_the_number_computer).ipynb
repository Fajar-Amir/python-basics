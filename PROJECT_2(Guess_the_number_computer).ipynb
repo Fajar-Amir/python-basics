{
  "cells": [
    {
      "cell_type": "markdown",
      "metadata": {
        "id": "view-in-github",
        "colab_type": "text"
      },
      "source": [
        "<a href=\"https://colab.research.google.com/github/Fajar-Amir/python-basics/blob/main/PROJECT_2(Guess_the_number_computer).ipynb\" target=\"_parent\"><img src=\"https://colab.research.google.com/assets/colab-badge.svg\" alt=\"Open In Colab\"/></a>"
      ]
    },
    {
      "cell_type": "markdown",
      "source": [
        "without error msg\n"
      ],
      "metadata": {
        "id": "MdC_XVNHAtHq"
      }
    },
    {
      "cell_type": "code",
      "execution_count": null,
      "metadata": {
        "colab": {
          "background_save": true,
          "base_uri": "https://localhost:8080/"
        },
        "id": "W-aEYyuKF7Mz",
        "outputId": "31eafa24-b9d2-44f9-9d50-a47160c31533"
      },
      "outputs": [
        {
          "name": "stdout",
          "output_type": "stream",
          "text": [
            "Oops! Too high, guess another one 😉\n"
          ]
        }
      ],
      "source": [
        "import random\n",
        "\n",
        "def guess(x):\n",
        "    secret_number = random.randint(1, x)\n",
        "    guess = 0\n",
        "\n",
        "    while guess != secret_number:\n",
        "        guess = int(input(f\"Guess a number between 1 and {x}: \"))\n",
        "\n",
        "        if guess > secret_number:\n",
        "            print(\"Oops! Too high, guess another one 😉\")\n",
        "        elif guess < secret_number:\n",
        "            print(\"Oops! Too low, guess another one 😉\")\n",
        "\n",
        "    print(f\"Wuhuuu! 🎉 Congrats, you guessed the number {secret_number}!\")\n",
        "\n",
        "guess(50)\n"
      ]
    },
    {
      "cell_type": "markdown",
      "source": [
        "# with error **msg**"
      ],
      "metadata": {
        "id": "hO6EcI7UAzmA"
      }
    },
    {
      "cell_type": "code",
      "source": [
        "import random\n",
        "def guess(x):\n",
        "  secret_number=random.randint(1,x)\n",
        "  guess=0\n",
        "\n",
        "  while guess != secret_number:\n",
        "    try:\n",
        "      guess=int(input(f\"Guess a number between 1 and {x}: \"))\n",
        "\n",
        "      if guess<1 or guess>x:\n",
        "        print(f\"⚠️ Invalid input! Please enter a number between 1 and {x}.\")\n",
        "        continue\n",
        "\n",
        "      if guess > secret_number:\n",
        "        print(\"Oops! Too high, guess another one 😉\")\n",
        "      elif guess < secret_number:\n",
        "        print(\"Oops! Too low, guess another one 😉\")\n",
        "\n",
        "    except ValueError:\n",
        "      print(\"⚠️ Invalid input! Please enter a valid number.\")\n",
        "\n",
        "  print(f\"Wuhuuu! 🎉 Congrats, you guessed the number {secret_number}!\")\n",
        "\n",
        "guess(50)\n",
        "\n",
        "\n",
        "\n",
        "\n",
        "\n"
      ],
      "metadata": {
        "colab": {
          "base_uri": "https://localhost:8080/"
        },
        "id": "1A4t86coSzFg",
        "outputId": "2ea1c5c5-2d9c-421e-c337-cefd6525114d"
      },
      "execution_count": null,
      "outputs": [
        {
          "output_type": "stream",
          "name": "stdout",
          "text": [
            "Guess a number between 1 and 50: 56\n",
            "⚠️ Invalid input! Please enter a number between 1 and 50.\n",
            "Guess a number between 1 and 50: 45\n",
            "Oops! Too high, guess another one 😉\n",
            "Guess a number between 1 and 50: 32\n",
            "Oops! Too low, guess another one 😉\n",
            "Guess a number between 1 and 50: 35\n",
            "Oops! Too low, guess another one 😉\n",
            "Guess a number between 1 and 50: 39\n",
            "Oops! Too low, guess another one 😉\n",
            "Guess a number between 1 and 50: 43\n",
            "Oops! Too high, guess another one 😉\n",
            "Guess a number between 1 and 50: 40\n",
            "Wuhuuu! 🎉 Congrats, you guessed the number 40!\n"
          ]
        }
      ]
    }
  ],
  "metadata": {
    "colab": {
      "provenance": [],
      "authorship_tag": "ABX9TyM7UEjF3RKJr335xb4uwLGP",
      "include_colab_link": true
    },
    "kernelspec": {
      "display_name": "Python 3",
      "name": "python3"
    },
    "language_info": {
      "name": "python"
    }
  },
  "nbformat": 4,
  "nbformat_minor": 0
}