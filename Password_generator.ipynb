{
  "nbformat": 4,
  "nbformat_minor": 0,
  "metadata": {
    "colab": {
      "provenance": [],
      "authorship_tag": "ABX9TyNMLy5ZGJBxrSEY5xRK4+7h",
      "include_colab_link": true
    },
    "kernelspec": {
      "name": "python3",
      "display_name": "Python 3"
    },
    "language_info": {
      "name": "python"
    }
  },
  "cells": [
    {
      "cell_type": "markdown",
      "metadata": {
        "id": "view-in-github",
        "colab_type": "text"
      },
      "source": [
        "<a href=\"https://colab.research.google.com/github/Fajar-Amir/python-basics/blob/main/Password_generator.ipynb\" target=\"_parent\"><img src=\"https://colab.research.google.com/assets/colab-badge.svg\" alt=\"Open In Colab\"/></a>"
      ]
    },
    {
      "cell_type": "code",
      "source": [
        "import random\n",
        "print('Welcome to Password Generator')\n",
        "\n",
        "chars=\"abcdefghijklmnopqrstuvwxyzABCDEFGHIJKLMNOPQRSTUVWXYZ!@#$%^&*1234567890\"\n",
        "\n",
        "number=input('Amount of passwords to generate: ')\n",
        "number=int(number)\n",
        "\n",
        "length=input('Input your password length: ')\n",
        "length=int(length)\n",
        "\n",
        "print('\\nhere are your passwords:')\n",
        "for pwd in range(number):\n",
        "    password=''\n",
        "    for c in range(length):\n",
        "        password += random.choice(chars)\n",
        "    print(password)"
      ],
      "metadata": {
        "colab": {
          "base_uri": "https://localhost:8080/"
        },
        "id": "IXjqrxI4aaEc",
        "outputId": "7345b4a0-d60e-4a74-d2da-4042c1d94739"
      },
      "execution_count": 6,
      "outputs": [
        {
          "output_type": "stream",
          "name": "stdout",
          "text": [
            "Welcome to Password Generator\n",
            "Amount of passwords to generate: 5\n",
            "Input your password length: 7\n",
            "\n",
            "6here are your passwords:\n",
            "2ZnPkbb\n",
            "vO7nD^4\n",
            "l30zNeV\n",
            "2!R0UEX\n",
            "VjH@CCC\n"
          ]
        }
      ]
    }
  ]
}