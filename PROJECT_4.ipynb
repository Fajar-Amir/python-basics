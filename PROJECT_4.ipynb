{
  "nbformat": 4,
  "nbformat_minor": 0,
  "metadata": {
    "colab": {
      "provenance": [],
      "authorship_tag": "ABX9TyNAENDvTwShFJPrW0eL/OWG",
      "include_colab_link": true
    },
    "kernelspec": {
      "name": "python3",
      "display_name": "Python 3"
    },
    "language_info": {
      "name": "python"
    }
  },
  "cells": [
    {
      "cell_type": "markdown",
      "metadata": {
        "id": "view-in-github",
        "colab_type": "text"
      },
      "source": [
        "<a href=\"https://colab.research.google.com/github/Fajar-Amir/python-basics/blob/main/PROJECT_4.ipynb\" target=\"_parent\"><img src=\"https://colab.research.google.com/assets/colab-badge.svg\" alt=\"Open In Colab\"/></a>"
      ]
    },
    {
      "cell_type": "code",
      "execution_count": null,
      "metadata": {
        "colab": {
          "base_uri": "https://localhost:8080/"
        },
        "id": "BdsBDnOrFxEe",
        "outputId": "3bd80435-4a6d-4fc4-c00f-24f75f693a20"
      },
      "outputs": [
        {
          "metadata": {
            "tags": null
          },
          "name": "stdout",
          "output_type": "stream",
          "text": [
            "Welcome to Stone, Paper, Scissors!\n",
            "Computer chose: paper\n",
            "You lose! Computer wins🎉🐱‍🚀\n",
            "Score: You - 0, Computer - 0\n",
            "\n",
            "Computer chose: paper\n",
            "It's a tie!\n",
            "Score: You - 0, Computer - 0\n",
            "\n"
          ]
        }
      ],
      "source": [
        "import random\n",
        "def com_choice():\n",
        "  return random.choice([\"stone\",\"paper\",\"scissors\"])\n",
        "\n",
        "def winner(player,opponent):\n",
        "  if player==opponent:\n",
        "     return \"It's a tie!\"\n",
        "  elif (player==\"stone\" and opponent==\"scissors\") or (player==\"paper\" and opponent==\"stone\") or (player==\"scissors\" and opponent==\"paper\"):\n",
        "     return \"You win!🎉🐱\"\n",
        "  else:\n",
        "     return \"You lose! Computer wins🎉🐱‍🚀\"\n",
        "\n",
        "\n",
        "# main function\n",
        "def main():\n",
        "   print(\"Welcome to Stone, Paper, Scissors!\")\n",
        "\n",
        "   user_score=0\n",
        "   computer_score=0\n",
        "\n",
        "   while True:\n",
        "    player_choice=input(\"Enter your choice (stone, paper, scissors) or 'q' to quit: \").lower()\n",
        "    if player_choice==\"q\":\n",
        "       print(f\"Final Score: You - {user_score}, Computer - {computer_score}\")\n",
        "       print(\"Thanks for playing! Goodbye!\")\n",
        "       break\n",
        "    elif player_choice not in [\"stone\",\"paper\",\"scissors\"]:\n",
        "       print(\"Invalid choice. Please choose from stone, paper, or scissors.\")\n",
        "       continue\n",
        "    computer_choice = com_choice()\n",
        "    print(f\"Computer chose: {computer_choice}\")\n",
        "\n",
        "    result = winner(player_choice, computer_choice)\n",
        "    print(result)\n",
        "\n",
        "    if result == \"You win!\":\n",
        "            user_score += 1\n",
        "    elif result == \"Computer wins!\":\n",
        "            computer_score += 1\n",
        "\n",
        "    print(f\"Score: You - {user_score}, Computer - {computer_score}\\n\")\n",
        "\n",
        "if __name__ == \"__main__\":\n",
        "    main()"
      ]
    }
  ]
}