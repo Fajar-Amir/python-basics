{
  "nbformat": 4,
  "nbformat_minor": 0,
  "metadata": {
    "colab": {
      "provenance": [],
      "authorship_tag": "ABX9TyP20z1988CBkkF3vQ42I044",
      "include_colab_link": true
    },
    "kernelspec": {
      "name": "python3",
      "display_name": "Python 3"
    },
    "language_info": {
      "name": "python"
    }
  },
  "cells": [
    {
      "cell_type": "markdown",
      "metadata": {
        "id": "view-in-github",
        "colab_type": "text"
      },
      "source": [
        "<a href=\"https://colab.research.google.com/github/Fajar-Amir/python-basics/blob/main/PROJECT_1(Madlibs).ipynb\" target=\"_parent\"><img src=\"https://colab.research.google.com/assets/colab-badge.svg\" alt=\"Open In Colab\"/></a>"
      ]
    },
    {
      "cell_type": "code",
      "execution_count": null,
      "metadata": {
        "colab": {
          "base_uri": "https://localhost:8080/"
        },
        "id": "e2CdMC1tArFZ",
        "outputId": "00e17648-7550-4cb2-d89f-2affe692ab79"
      },
      "outputs": [
        {
          "output_type": "stream",
          "name": "stdout",
          "text": [
            "Enter an Adjective: amazing\n",
            "Enter a Verb: explore\n",
            "Enter another Verb: shopping\n",
            "Enter the name of a famous person: mama\n",
            "Enter your favorite food: pizza\n",
            "Enter your favorite color: black\n",
            "Today is a amazing day! I love to explore and shopping just like mama. \n",
            "My favorite food is pizza, and my favorite color is black. Life is amazing!\n"
          ]
        }
      ],
      "source": [
        "# making varaibles to store data\n",
        "\n",
        "adjective = input(\"Enter an Adjective: \")\n",
        "verb1 = input(\"Enter a Verb: \")\n",
        "verb2 = input(\"Enter another Verb: \")\n",
        "famous_person = input(\"Enter the name of a famous person: \")\n",
        "fav_food = input(\"Enter your favorite food: \")\n",
        "fav_color = input(\"Enter your favorite color: \")\n",
        "\n",
        "print(f\"Today is a {adjective} day! I love to {verb1} and {verb2} just like {famous_person}. \")\n",
        "print(f\"My favorite food is {fav_food}, and my favorite color is {fav_color}. Life is amazing!\")\n"
      ]
    },
    {
      "cell_type": "code",
      "source": [],
      "metadata": {
        "id": "Xhqr1J5XGf_v"
      },
      "execution_count": null,
      "outputs": []
    }
  ]
}